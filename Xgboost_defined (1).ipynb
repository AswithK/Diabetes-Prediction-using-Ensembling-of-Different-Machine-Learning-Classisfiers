{
  "nbformat": 4,
  "nbformat_minor": 0,
  "metadata": {
    "colab": {
      "provenance": []
    },
    "kernelspec": {
      "name": "python3",
      "display_name": "Python 3"
    },
    "language_info": {
      "name": "python"
    }
  },
  "cells": [
    {
      "cell_type": "code",
      "source": [
        "import numpy as np\n",
        "from sklearn.tree import DecisionTreeRegressor \n",
        "\n",
        "class XGBClassifier:\n",
        "    def __init__(self, n_estimators=100, learning_rate=0.1, max_depth=3, min_samples_split=2):\n",
        "        self.n_estimators = n_estimators\n",
        "        self.learning_rate = learning_rate\n",
        "        self.max_depth = max_depth\n",
        "        self.min_samples_split = min_samples_split\n",
        "        self.trees = []\n",
        "        self.weights = []\n",
        "\n",
        "    def fit(self, X, y):\n",
        "        self.classes_ = np.unique(y)\n",
        "        for i in range(len(self.classes_)):\n",
        "            y_binary = np.zeros(len(y))\n",
        "            y_binary[y == self.classes_[i]] = 1\n",
        "            self._fit_binary(X, y_binary)\n",
        "\n",
        "    def predict_proba(self, X):\n",
        "        proba = np.zeros((X.shape[0], len(self.classes_)))\n",
        "        for i in range(len(self.classes_)):\n",
        "            proba[:, i] = self._predict_binary(X, i)\n",
        "        return proba / np.sum(proba, axis=1, keepdims=True)\n",
        "\n",
        "    def predict(self, X):\n",
        "        return np.argmax(self.predict_proba(X), axis=1)\n",
        "\n",
        "    def _fit_binary(self, X, y):\n",
        "        residuals = y\n",
        "        for i in range(self.n_estimators):\n",
        "            tree = DecisionTreeRegressor(max_depth=self.max_depth, min_samples_split=self.min_samples_split)\n",
        "            tree.fit(X, residuals, sample_weight=self._get_weights(residuals))\n",
        "            self.trees.append(tree)\n",
        "            self.weights.append(1.0)\n",
        "            residuals = self._update_residuals(residuals, self._predict_binary(X, -1))\n",
        "\n",
        "    def _predict_binary(self, X, class_idx):\n",
        "        if class_idx == -1:\n",
        "            return np.sum([self.weights[i] * self.trees[i].predict(X) for i in range(len(self.trees))], axis=0)\n",
        "        else:\n",
        "            return 1.0 / (1.0 + np.exp(-self._predict_binary(X, -1)))\n",
        "\n",
        "    def _get_weights(self, residuals):\n",
        "        return np.ones(len(residuals))\n",
        "\n",
        "    def _update_residuals(self, residuals, predictions):\n",
        "        return residuals - self.learning_rate * predictions\n",
        "\n",
        "\n",
        "\n",
        "\n"
      ],
      "metadata": {
        "id": "RmVW8JPwu5sp"
      },
      "execution_count": 13,
      "outputs": []
    },
    {
      "cell_type": "code",
      "execution_count": 14,
      "metadata": {
        "id": "FQ1lHZRatoqj"
      },
      "outputs": [],
      "source": [
        "import numpy as np\n",
        "import pandas as pd\n",
        "from sklearn.model_selection import train_test_split\n",
        "from sklearn.metrics import accuracy_score"
      ]
    },
    {
      "cell_type": "code",
      "source": [
        "dataset = pd.read_csv('Dia.csv')"
      ],
      "metadata": {
        "id": "omjMqefgur_o"
      },
      "execution_count": 15,
      "outputs": []
    },
    {
      "cell_type": "code",
      "source": [
        "dataset.fillna(0, inplace=True)\n",
        "dataset.fillna(dataset.mean(), inplace=True)"
      ],
      "metadata": {
        "id": "_4oXbs2gyC9X"
      },
      "execution_count": 16,
      "outputs": []
    },
    {
      "cell_type": "code",
      "source": [
        "X = dataset.iloc[:,:-1].values\n",
        "y = dataset.iloc[:, -1].values"
      ],
      "metadata": {
        "id": "f4imLtl9u1Cm"
      },
      "execution_count": 17,
      "outputs": []
    },
    {
      "cell_type": "code",
      "source": [
        "X_train, X_test, y_train, y_test = train_test_split(X, y, test_size=0.2, random_state=0)"
      ],
      "metadata": {
        "id": "aRl-yLJDu2v4"
      },
      "execution_count": 18,
      "outputs": []
    },
    {
      "cell_type": "code",
      "source": [
        "model = XGBClassifier()"
      ],
      "metadata": {
        "id": "Ep2Ngsoru46x"
      },
      "execution_count": 19,
      "outputs": []
    },
    {
      "cell_type": "code",
      "source": [
        "model.fit(X_train, y_train)"
      ],
      "metadata": {
        "id": "rhTV06QZvGBF"
      },
      "execution_count": 20,
      "outputs": []
    },
    {
      "cell_type": "code",
      "source": [
        "y_pred = model.predict(X_test)"
      ],
      "metadata": {
        "id": "7lu-_KD1vJH8"
      },
      "execution_count": 21,
      "outputs": []
    },
    {
      "cell_type": "code",
      "source": [
        "accuracy = accuracy_score(y_test, y_pred)\n",
        "print(\"Accuracy: %.2f%%\" % (accuracy * 100.0))"
      ],
      "metadata": {
        "colab": {
          "base_uri": "https://localhost:8080/"
        },
        "id": "YvUz3qT0yPYu",
        "outputId": "0ffd8e6e-d0e2-4a8e-a763-fef9cfe1c460"
      },
      "execution_count": 22,
      "outputs": [
        {
          "output_type": "stream",
          "name": "stdout",
          "text": [
            "Accuracy: 66.73%\n"
          ]
        }
      ]
    },
    {
      "cell_type": "code",
      "source": [],
      "metadata": {
        "id": "-eHEG_ebyRQi"
      },
      "execution_count": null,
      "outputs": []
    }
  ]
}